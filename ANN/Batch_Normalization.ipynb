{
  "nbformat": 4,
  "nbformat_minor": 0,
  "metadata": {
    "colab": {
      "provenance": [],
      "gpuType": "T4"
    },
    "kernelspec": {
      "name": "python3",
      "display_name": "Python 3"
    },
    "language_info": {
      "name": "python"
    },
    "accelerator": "GPU"
  },
  "cells": [
    {
      "cell_type": "markdown",
      "source": [
        "## Before applying Batch Normalization\n",
        "\n",
        "####Batch Normalization:\n",
        "#####Batch Normalization is an algorithm method which makes the training of Deep Learning NN faster and more stable(accuracy, loss)\n",
        "\n",
        "#####It can be add right before or right after the Dense Layer\n",
        "\n",
        "#####Normalization --> mean=0, std=1"
      ],
      "metadata": {
        "id": "1dwDRwvBet0q"
      }
    },
    {
      "cell_type": "code",
      "execution_count": 1,
      "metadata": {
        "id": "YSpelCl3ecrC"
      },
      "outputs": [],
      "source": [
        "import tensorflow as tf\n",
        "import numpy as np\n",
        "import matplotlib.pyplot as plt\n",
        "import time"
      ]
    },
    {
      "cell_type": "code",
      "source": [
        "mnist=tf.keras.datasets.mnist\n",
        "(X_train_full,y_train_full),(X_test,y_test)=mnist.load_data()"
      ],
      "metadata": {
        "colab": {
          "base_uri": "https://localhost:8080/"
        },
        "id": "uPsNAYQ2fRr3",
        "outputId": "dbf291dd-c921-4390-9988-3d22cd7ea8c3"
      },
      "execution_count": 2,
      "outputs": [
        {
          "output_type": "stream",
          "name": "stdout",
          "text": [
            "Downloading data from https://storage.googleapis.com/tensorflow/tf-keras-datasets/mnist.npz\n",
            "11490434/11490434 [==============================] - 0s 0us/step\n"
          ]
        }
      ]
    },
    {
      "cell_type": "code",
      "source": [
        "#Applting scaling (minmax)\n",
        "X_valid,X_train=X_train_full[:5000]/255., X_train_full[5000:]/255.\n",
        "y_valid,y_train=y_train_full[:5000], y_train_full[5000:]\n",
        "\n",
        "#Scale test data\n",
        "X_test=X_test/255."
      ],
      "metadata": {
        "id": "S_1G9ir2f9Pk"
      },
      "execution_count": 3,
      "outputs": []
    },
    {
      "cell_type": "code",
      "source": [
        "LAYERS=[\n",
        "    tf.keras.layers.Flatten(input_shape=[28,28]),\n",
        "    tf.keras.layers.Dense(300, kernel_initializer='he_normal'),\n",
        "    tf.keras.layers.LeakyReLU(),\n",
        "    tf.keras.layers.Dense(100,kernel_initializer='he_normal'),\n",
        "    tf.keras.layers.LeakyReLU(),\n",
        "    tf.keras.layers.Dense(10,activation='softmax')\n",
        "]\n",
        "\n",
        "model=tf.keras.models.Sequential(LAYERS)"
      ],
      "metadata": {
        "id": "30CZfbg7hAyd"
      },
      "execution_count": 6,
      "outputs": []
    },
    {
      "cell_type": "code",
      "source": [
        "model.compile(loss='sparse_categorical_crossentropy',optimizer=tf.keras.optimizers.SGD(learning_rate=1e-3),metrics='accuracy')"
      ],
      "metadata": {
        "id": "boIKdFJ_i6OH"
      },
      "execution_count": 8,
      "outputs": []
    },
    {
      "cell_type": "code",
      "source": [
        "model.summary()"
      ],
      "metadata": {
        "colab": {
          "base_uri": "https://localhost:8080/"
        },
        "id": "QND_8rsOjrIS",
        "outputId": "fcf0d0f0-94c1-496b-c173-c3a3da077a28"
      },
      "execution_count": 9,
      "outputs": [
        {
          "output_type": "stream",
          "name": "stdout",
          "text": [
            "Model: \"sequential\"\n",
            "_________________________________________________________________\n",
            " Layer (type)                Output Shape              Param #   \n",
            "=================================================================\n",
            " flatten_2 (Flatten)         (None, 784)               0         \n",
            "                                                                 \n",
            " dense (Dense)               (None, 300)               235500    \n",
            "                                                                 \n",
            " leaky_re_lu (LeakyReLU)     (None, 300)               0         \n",
            "                                                                 \n",
            " dense_1 (Dense)             (None, 100)               30100     \n",
            "                                                                 \n",
            " leaky_re_lu_1 (LeakyReLU)   (None, 100)               0         \n",
            "                                                                 \n",
            " dense_2 (Dense)             (None, 10)                1010      \n",
            "                                                                 \n",
            "=================================================================\n",
            "Total params: 266610 (1.02 MB)\n",
            "Trainable params: 266610 (1.02 MB)\n",
            "Non-trainable params: 0 (0.00 Byte)\n",
            "_________________________________________________________________\n"
          ]
        }
      ]
    },
    {
      "cell_type": "code",
      "source": [
        "start=time.time()\n",
        "\n",
        "model.fit(X_train,y_train,epochs=10,validation_data=(X_valid,y_valid))\n",
        "\n",
        "end=time.time()\n",
        "\n",
        "#total time\n",
        "print(f'Runtime of the program is {end-start}')"
      ],
      "metadata": {
        "colab": {
          "base_uri": "https://localhost:8080/"
        },
        "id": "tVEpytFjj2Bd",
        "outputId": "c11267ba-25f0-4306-cd9f-aa8fcc45e0d2"
      },
      "execution_count": 10,
      "outputs": [
        {
          "output_type": "stream",
          "name": "stdout",
          "text": [
            "Epoch 1/10\n",
            "1719/1719 [==============================] - 10s 3ms/step - loss: 1.6140 - accuracy: 0.5680 - val_loss: 1.0139 - val_accuracy: 0.7914\n",
            "Epoch 2/10\n",
            "1719/1719 [==============================] - 7s 4ms/step - loss: 0.7905 - accuracy: 0.8178 - val_loss: 0.6185 - val_accuracy: 0.8514\n",
            "Epoch 3/10\n",
            "1719/1719 [==============================] - 5s 3ms/step - loss: 0.5640 - accuracy: 0.8577 - val_loss: 0.4882 - val_accuracy: 0.8726\n",
            "Epoch 4/10\n",
            "1719/1719 [==============================] - 6s 4ms/step - loss: 0.4738 - accuracy: 0.8743 - val_loss: 0.4244 - val_accuracy: 0.8872\n",
            "Epoch 5/10\n",
            "1719/1719 [==============================] - 6s 3ms/step - loss: 0.4255 - accuracy: 0.8839 - val_loss: 0.3876 - val_accuracy: 0.8944\n",
            "Epoch 6/10\n",
            "1719/1719 [==============================] - 7s 4ms/step - loss: 0.3944 - accuracy: 0.8912 - val_loss: 0.3625 - val_accuracy: 0.9018\n",
            "Epoch 7/10\n",
            "1719/1719 [==============================] - 6s 3ms/step - loss: 0.3724 - accuracy: 0.8957 - val_loss: 0.3436 - val_accuracy: 0.9054\n",
            "Epoch 8/10\n",
            "1719/1719 [==============================] - 7s 4ms/step - loss: 0.3556 - accuracy: 0.9004 - val_loss: 0.3291 - val_accuracy: 0.9090\n",
            "Epoch 9/10\n",
            "1719/1719 [==============================] - 6s 3ms/step - loss: 0.3421 - accuracy: 0.9034 - val_loss: 0.3178 - val_accuracy: 0.9114\n",
            "Epoch 10/10\n",
            "1719/1719 [==============================] - 6s 4ms/step - loss: 0.3309 - accuracy: 0.9067 - val_loss: 0.3077 - val_accuracy: 0.9152\n",
            "Runtime of the program is 82.89741325378418\n"
          ]
        }
      ]
    },
    {
      "cell_type": "markdown",
      "source": [
        "##After Batch Normalization"
      ],
      "metadata": {
        "id": "Bm0kjQQik4_h"
      }
    },
    {
      "cell_type": "code",
      "source": [
        "del model # deleting previous model"
      ],
      "metadata": {
        "id": "aTaU4gKmkjVM"
      },
      "execution_count": 11,
      "outputs": []
    },
    {
      "cell_type": "code",
      "source": [
        "LAYERS=[\n",
        "    tf.keras.layers.Flatten(input_shape=[28,28]),\n",
        "    tf.keras.layers.BatchNormalization(),\n",
        "    tf.keras.layers.Dense(300, kernel_initializer='he_normal'),\n",
        "    tf.keras.layers.LeakyReLU(),\n",
        "    tf.keras.layers.BatchNormalization(),\n",
        "    tf.keras.layers.Dense(100,kernel_initializer='he_normal'),\n",
        "    tf.keras.layers.LeakyReLU(),\n",
        "    tf.keras.layers.BatchNormalization(),\n",
        "    tf.keras.layers.Dense(10,activation='softmax')\n",
        "]\n",
        "\n",
        "model=tf.keras.models.Sequential(LAYERS)"
      ],
      "metadata": {
        "id": "vlXzFvGIlPe5"
      },
      "execution_count": 13,
      "outputs": []
    },
    {
      "cell_type": "code",
      "source": [
        "model.summary()"
      ],
      "metadata": {
        "colab": {
          "base_uri": "https://localhost:8080/"
        },
        "id": "DFM1cno-lnnx",
        "outputId": "cf1e77d4-fb68-430e-c157-75f62d969714"
      },
      "execution_count": 14,
      "outputs": [
        {
          "output_type": "stream",
          "name": "stdout",
          "text": [
            "Model: \"sequential_1\"\n",
            "_________________________________________________________________\n",
            " Layer (type)                Output Shape              Param #   \n",
            "=================================================================\n",
            " flatten_4 (Flatten)         (None, 784)               0         \n",
            "                                                                 \n",
            " batch_normalization (Batch  (None, 784)               3136      \n",
            " Normalization)                                                  \n",
            "                                                                 \n",
            " dense_3 (Dense)             (None, 300)               235500    \n",
            "                                                                 \n",
            " leaky_re_lu_2 (LeakyReLU)   (None, 300)               0         \n",
            "                                                                 \n",
            " batch_normalization_1 (Bat  (None, 300)               1200      \n",
            " chNormalization)                                                \n",
            "                                                                 \n",
            " dense_4 (Dense)             (None, 100)               30100     \n",
            "                                                                 \n",
            " leaky_re_lu_3 (LeakyReLU)   (None, 100)               0         \n",
            "                                                                 \n",
            " batch_normalization_2 (Bat  (None, 100)               400       \n",
            " chNormalization)                                                \n",
            "                                                                 \n",
            " dense_5 (Dense)             (None, 10)                1010      \n",
            "                                                                 \n",
            "=================================================================\n",
            "Total params: 271346 (1.04 MB)\n",
            "Trainable params: 268978 (1.03 MB)\n",
            "Non-trainable params: 2368 (9.25 KB)\n",
            "_________________________________________________________________\n"
          ]
        }
      ]
    },
    {
      "cell_type": "code",
      "source": [
        "model.compile(loss='sparse_categorical_crossentropy',optimizer=tf.keras.optimizers.SGD(learning_rate=1e-3),metrics='accuracy')"
      ],
      "metadata": {
        "id": "DYDGdsZeludp"
      },
      "execution_count": 15,
      "outputs": []
    },
    {
      "cell_type": "code",
      "source": [
        "start=time.time()\n",
        "\n",
        "model.fit(X_train,y_train,epochs=10,validation_data=(X_valid,y_valid))\n",
        "\n",
        "end=time.time()\n",
        "\n",
        "#total time\n",
        "print(f'Runtime of the program is {end-start}')"
      ],
      "metadata": {
        "colab": {
          "base_uri": "https://localhost:8080/"
        },
        "id": "okYNnxQ1l7qP",
        "outputId": "91dca7cc-d1b7-43f6-cac2-fa831fef9493"
      },
      "execution_count": 16,
      "outputs": [
        {
          "output_type": "stream",
          "name": "stdout",
          "text": [
            "Epoch 1/10\n",
            "1719/1719 [==============================] - 10s 5ms/step - loss: 0.8711 - accuracy: 0.7357 - val_loss: 0.4964 - val_accuracy: 0.8616\n",
            "Epoch 2/10\n",
            "1719/1719 [==============================] - 9s 5ms/step - loss: 0.4756 - accuracy: 0.8630 - val_loss: 0.3887 - val_accuracy: 0.8886\n",
            "Epoch 3/10\n",
            "1719/1719 [==============================] - 9s 5ms/step - loss: 0.4036 - accuracy: 0.8834 - val_loss: 0.3403 - val_accuracy: 0.9034\n",
            "Epoch 4/10\n",
            "1719/1719 [==============================] - 9s 5ms/step - loss: 0.3705 - accuracy: 0.8937 - val_loss: 0.3140 - val_accuracy: 0.9114\n",
            "Epoch 5/10\n",
            "1719/1719 [==============================] - 9s 5ms/step - loss: 0.3431 - accuracy: 0.8997 - val_loss: 0.2956 - val_accuracy: 0.9156\n",
            "Epoch 6/10\n",
            "1719/1719 [==============================] - 9s 5ms/step - loss: 0.3222 - accuracy: 0.9063 - val_loss: 0.2790 - val_accuracy: 0.9204\n",
            "Epoch 7/10\n",
            "1719/1719 [==============================] - 9s 5ms/step - loss: 0.3071 - accuracy: 0.9096 - val_loss: 0.2684 - val_accuracy: 0.9252\n",
            "Epoch 8/10\n",
            "1719/1719 [==============================] - 9s 5ms/step - loss: 0.2940 - accuracy: 0.9148 - val_loss: 0.2601 - val_accuracy: 0.9260\n",
            "Epoch 9/10\n",
            "1719/1719 [==============================] - 9s 5ms/step - loss: 0.2821 - accuracy: 0.9180 - val_loss: 0.2513 - val_accuracy: 0.9308\n",
            "Epoch 10/10\n",
            "1719/1719 [==============================] - 9s 5ms/step - loss: 0.2725 - accuracy: 0.9211 - val_loss: 0.2425 - val_accuracy: 0.9330\n",
            "Runtime of the program is 91.07573580741882\n"
          ]
        }
      ]
    },
    {
      "cell_type": "code",
      "source": [],
      "metadata": {
        "id": "zULS8Cf9mAk1"
      },
      "execution_count": null,
      "outputs": []
    }
  ]
}